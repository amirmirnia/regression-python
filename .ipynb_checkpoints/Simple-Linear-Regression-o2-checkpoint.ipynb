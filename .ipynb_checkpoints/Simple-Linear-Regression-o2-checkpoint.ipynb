{
 "cells": [
  {
   "cell_type": "code",
   "execution_count": null,
   "id": "2e14d682-43fe-4121-be62-cdbe64614db7",
   "metadata": {},
   "outputs": [],
   "source": []
  },
  {
   "cell_type": "code",
   "execution_count": 48,
   "id": "c6df60ca-9366-4687-98fe-651665689e8a",
   "metadata": {},
   "outputs": [],
   "source": [
    "import matplotlib.pyplot as plt\n",
    "import numpy as np\n",
    "import pylab as pl\n",
    "import pandas as pd\n",
    "from sklearn import linear_model\n"
   ]
  },
  {
   "cell_type": "code",
   "execution_count": 7,
   "id": "d8ef4f6f-09fe-49f2-a709-bd2cf9d1df2b",
   "metadata": {},
   "outputs": [],
   "source": [
    "df=pd.read_csv(\"my2023-fuel-consumption-ratings.csv\", encoding='latin1')"
   ]
  },
  {
   "cell_type": "code",
   "execution_count": 49,
   "id": "4ddaecc3-5fca-4dc4-8cbb-eae3436fb704",
   "metadata": {},
   "outputs": [
    {
     "data": {
      "text/html": [
       "<div>\n",
       "<style scoped>\n",
       "    .dataframe tbody tr th:only-of-type {\n",
       "        vertical-align: middle;\n",
       "    }\n",
       "\n",
       "    .dataframe tbody tr th {\n",
       "        vertical-align: top;\n",
       "    }\n",
       "\n",
       "    .dataframe thead th {\n",
       "        text-align: right;\n",
       "    }\n",
       "</style>\n",
       "<table border=\"1\" class=\"dataframe\">\n",
       "  <thead>\n",
       "    <tr style=\"text-align: right;\">\n",
       "      <th></th>\n",
       "      <th>Model year</th>\n",
       "      <th>Make</th>\n",
       "      <th>Model</th>\n",
       "      <th>Vehicle class</th>\n",
       "      <th>Enginesize</th>\n",
       "      <th>Cylinders</th>\n",
       "      <th>Transmission</th>\n",
       "      <th>Fuel type</th>\n",
       "      <th>City (L/100 km)</th>\n",
       "      <th>Highway (L/100 km)</th>\n",
       "      <th>Combined (L/100 km)</th>\n",
       "      <th>Combined (mpg)</th>\n",
       "      <th>CO2emissions</th>\n",
       "      <th>CO2 rating</th>\n",
       "      <th>Smog rating</th>\n",
       "    </tr>\n",
       "  </thead>\n",
       "  <tbody>\n",
       "    <tr>\n",
       "      <th>0</th>\n",
       "      <td>2023</td>\n",
       "      <td>Acura</td>\n",
       "      <td>Integra</td>\n",
       "      <td>Full-size</td>\n",
       "      <td>1.5</td>\n",
       "      <td>4</td>\n",
       "      <td>AV7</td>\n",
       "      <td>Z</td>\n",
       "      <td>7.9</td>\n",
       "      <td>6.3</td>\n",
       "      <td>7.2</td>\n",
       "      <td>39</td>\n",
       "      <td>167</td>\n",
       "      <td>6</td>\n",
       "      <td>7</td>\n",
       "    </tr>\n",
       "    <tr>\n",
       "      <th>1</th>\n",
       "      <td>2023</td>\n",
       "      <td>Acura</td>\n",
       "      <td>Integra A-SPEC</td>\n",
       "      <td>Full-size</td>\n",
       "      <td>1.5</td>\n",
       "      <td>4</td>\n",
       "      <td>AV7</td>\n",
       "      <td>Z</td>\n",
       "      <td>8.1</td>\n",
       "      <td>6.5</td>\n",
       "      <td>7.4</td>\n",
       "      <td>38</td>\n",
       "      <td>172</td>\n",
       "      <td>6</td>\n",
       "      <td>7</td>\n",
       "    </tr>\n",
       "    <tr>\n",
       "      <th>2</th>\n",
       "      <td>2023</td>\n",
       "      <td>Acura</td>\n",
       "      <td>Integra A-SPEC</td>\n",
       "      <td>Full-size</td>\n",
       "      <td>1.5</td>\n",
       "      <td>4</td>\n",
       "      <td>M6</td>\n",
       "      <td>Z</td>\n",
       "      <td>8.9</td>\n",
       "      <td>6.5</td>\n",
       "      <td>7.8</td>\n",
       "      <td>36</td>\n",
       "      <td>181</td>\n",
       "      <td>6</td>\n",
       "      <td>6</td>\n",
       "    </tr>\n",
       "    <tr>\n",
       "      <th>3</th>\n",
       "      <td>2023</td>\n",
       "      <td>Acura</td>\n",
       "      <td>MDX SH-AWD</td>\n",
       "      <td>Sport utility vehicle: Small</td>\n",
       "      <td>3.5</td>\n",
       "      <td>6</td>\n",
       "      <td>AS10</td>\n",
       "      <td>Z</td>\n",
       "      <td>12.6</td>\n",
       "      <td>9.4</td>\n",
       "      <td>11.2</td>\n",
       "      <td>25</td>\n",
       "      <td>263</td>\n",
       "      <td>4</td>\n",
       "      <td>5</td>\n",
       "    </tr>\n",
       "    <tr>\n",
       "      <th>4</th>\n",
       "      <td>2023</td>\n",
       "      <td>Acura</td>\n",
       "      <td>MDX SH-AWD Type S</td>\n",
       "      <td>Sport utility vehicle: Standard</td>\n",
       "      <td>3.0</td>\n",
       "      <td>6</td>\n",
       "      <td>AS10</td>\n",
       "      <td>Z</td>\n",
       "      <td>13.8</td>\n",
       "      <td>11.2</td>\n",
       "      <td>12.4</td>\n",
       "      <td>23</td>\n",
       "      <td>291</td>\n",
       "      <td>4</td>\n",
       "      <td>5</td>\n",
       "    </tr>\n",
       "  </tbody>\n",
       "</table>\n",
       "</div>"
      ],
      "text/plain": [
       "   Model year   Make              Model                    Vehicle class  \\\n",
       "0        2023  Acura            Integra                        Full-size   \n",
       "1        2023  Acura     Integra A-SPEC                        Full-size   \n",
       "2        2023  Acura     Integra A-SPEC                        Full-size   \n",
       "3        2023  Acura         MDX SH-AWD     Sport utility vehicle: Small   \n",
       "4        2023  Acura  MDX SH-AWD Type S  Sport utility vehicle: Standard   \n",
       "\n",
       "   Enginesize  Cylinders Transmission Fuel type  City (L/100 km)  \\\n",
       "0         1.5          4          AV7         Z              7.9   \n",
       "1         1.5          4          AV7         Z              8.1   \n",
       "2         1.5          4           M6         Z              8.9   \n",
       "3         3.5          6         AS10         Z             12.6   \n",
       "4         3.0          6         AS10         Z             13.8   \n",
       "\n",
       "   Highway (L/100 km)  Combined (L/100 km)  Combined (mpg)  CO2emissions  \\\n",
       "0                 6.3                  7.2              39           167   \n",
       "1                 6.5                  7.4              38           172   \n",
       "2                 6.5                  7.8              36           181   \n",
       "3                 9.4                 11.2              25           263   \n",
       "4                11.2                 12.4              23           291   \n",
       "\n",
       "   CO2 rating  Smog rating  \n",
       "0           6            7  \n",
       "1           6            7  \n",
       "2           6            6  \n",
       "3           4            5  \n",
       "4           4            5  "
      ]
     },
     "execution_count": 49,
     "metadata": {},
     "output_type": "execute_result"
    }
   ],
   "source": [
    "df.head()"
   ]
  },
  {
   "cell_type": "code",
   "execution_count": 9,
   "id": "36c0eeb8-d1df-40b8-8e2b-8980cef5c72b",
   "metadata": {},
   "outputs": [
    {
     "data": {
      "text/html": [
       "<div>\n",
       "<style scoped>\n",
       "    .dataframe tbody tr th:only-of-type {\n",
       "        vertical-align: middle;\n",
       "    }\n",
       "\n",
       "    .dataframe tbody tr th {\n",
       "        vertical-align: top;\n",
       "    }\n",
       "\n",
       "    .dataframe thead th {\n",
       "        text-align: right;\n",
       "    }\n",
       "</style>\n",
       "<table border=\"1\" class=\"dataframe\">\n",
       "  <thead>\n",
       "    <tr style=\"text-align: right;\">\n",
       "      <th></th>\n",
       "      <th>Model year</th>\n",
       "      <th>Enginesize</th>\n",
       "      <th>Cylinders</th>\n",
       "      <th>City (L/100 km)</th>\n",
       "      <th>Highway (L/100 km)</th>\n",
       "      <th>Combined (L/100 km)</th>\n",
       "      <th>Combined (mpg)</th>\n",
       "      <th>CO2emissions</th>\n",
       "      <th>CO2 rating</th>\n",
       "      <th>Smog rating</th>\n",
       "    </tr>\n",
       "  </thead>\n",
       "  <tbody>\n",
       "    <tr>\n",
       "      <th>count</th>\n",
       "      <td>833.0</td>\n",
       "      <td>833.000000</td>\n",
       "      <td>833.000000</td>\n",
       "      <td>833.000000</td>\n",
       "      <td>833.000000</td>\n",
       "      <td>833.000000</td>\n",
       "      <td>833.000000</td>\n",
       "      <td>833.000000</td>\n",
       "      <td>833.000000</td>\n",
       "      <td>833.000000</td>\n",
       "    </tr>\n",
       "    <tr>\n",
       "      <th>mean</th>\n",
       "      <td>2023.0</td>\n",
       "      <td>3.147899</td>\n",
       "      <td>5.627851</td>\n",
       "      <td>12.431453</td>\n",
       "      <td>9.353661</td>\n",
       "      <td>11.047179</td>\n",
       "      <td>27.375750</td>\n",
       "      <td>257.471789</td>\n",
       "      <td>4.522209</td>\n",
       "      <td>5.236495</td>\n",
       "    </tr>\n",
       "    <tr>\n",
       "      <th>std</th>\n",
       "      <td>0.0</td>\n",
       "      <td>1.353076</td>\n",
       "      <td>1.968695</td>\n",
       "      <td>3.456191</td>\n",
       "      <td>2.302312</td>\n",
       "      <td>2.878308</td>\n",
       "      <td>7.559968</td>\n",
       "      <td>64.262847</td>\n",
       "      <td>1.279385</td>\n",
       "      <td>1.665693</td>\n",
       "    </tr>\n",
       "    <tr>\n",
       "      <th>min</th>\n",
       "      <td>2023.0</td>\n",
       "      <td>1.200000</td>\n",
       "      <td>3.000000</td>\n",
       "      <td>4.400000</td>\n",
       "      <td>4.400000</td>\n",
       "      <td>4.400000</td>\n",
       "      <td>11.000000</td>\n",
       "      <td>104.000000</td>\n",
       "      <td>1.000000</td>\n",
       "      <td>1.000000</td>\n",
       "    </tr>\n",
       "    <tr>\n",
       "      <th>25%</th>\n",
       "      <td>2023.0</td>\n",
       "      <td>2.000000</td>\n",
       "      <td>4.000000</td>\n",
       "      <td>10.100000</td>\n",
       "      <td>7.700000</td>\n",
       "      <td>9.000000</td>\n",
       "      <td>22.000000</td>\n",
       "      <td>211.000000</td>\n",
       "      <td>4.000000</td>\n",
       "      <td>5.000000</td>\n",
       "    </tr>\n",
       "    <tr>\n",
       "      <th>50%</th>\n",
       "      <td>2023.0</td>\n",
       "      <td>3.000000</td>\n",
       "      <td>6.000000</td>\n",
       "      <td>12.100000</td>\n",
       "      <td>9.100000</td>\n",
       "      <td>10.700000</td>\n",
       "      <td>26.000000</td>\n",
       "      <td>254.000000</td>\n",
       "      <td>5.000000</td>\n",
       "      <td>5.000000</td>\n",
       "    </tr>\n",
       "    <tr>\n",
       "      <th>75%</th>\n",
       "      <td>2023.0</td>\n",
       "      <td>3.600000</td>\n",
       "      <td>6.000000</td>\n",
       "      <td>14.600000</td>\n",
       "      <td>10.700000</td>\n",
       "      <td>12.900000</td>\n",
       "      <td>31.000000</td>\n",
       "      <td>299.000000</td>\n",
       "      <td>5.000000</td>\n",
       "      <td>7.000000</td>\n",
       "    </tr>\n",
       "    <tr>\n",
       "      <th>max</th>\n",
       "      <td>2023.0</td>\n",
       "      <td>8.000000</td>\n",
       "      <td>16.000000</td>\n",
       "      <td>30.300000</td>\n",
       "      <td>20.900000</td>\n",
       "      <td>26.100000</td>\n",
       "      <td>64.000000</td>\n",
       "      <td>608.000000</td>\n",
       "      <td>9.000000</td>\n",
       "      <td>8.000000</td>\n",
       "    </tr>\n",
       "  </tbody>\n",
       "</table>\n",
       "</div>"
      ],
      "text/plain": [
       "       Model year  Enginesize   Cylinders  City (L/100 km)  \\\n",
       "count       833.0  833.000000  833.000000       833.000000   \n",
       "mean       2023.0    3.147899    5.627851        12.431453   \n",
       "std           0.0    1.353076    1.968695         3.456191   \n",
       "min        2023.0    1.200000    3.000000         4.400000   \n",
       "25%        2023.0    2.000000    4.000000        10.100000   \n",
       "50%        2023.0    3.000000    6.000000        12.100000   \n",
       "75%        2023.0    3.600000    6.000000        14.600000   \n",
       "max        2023.0    8.000000   16.000000        30.300000   \n",
       "\n",
       "       Highway (L/100 km)  Combined (L/100 km)  Combined (mpg)  CO2emissions  \\\n",
       "count          833.000000           833.000000      833.000000    833.000000   \n",
       "mean             9.353661            11.047179       27.375750    257.471789   \n",
       "std              2.302312             2.878308        7.559968     64.262847   \n",
       "min              4.400000             4.400000       11.000000    104.000000   \n",
       "25%              7.700000             9.000000       22.000000    211.000000   \n",
       "50%              9.100000            10.700000       26.000000    254.000000   \n",
       "75%             10.700000            12.900000       31.000000    299.000000   \n",
       "max             20.900000            26.100000       64.000000    608.000000   \n",
       "\n",
       "       CO2 rating  Smog rating  \n",
       "count  833.000000   833.000000  \n",
       "mean     4.522209     5.236495  \n",
       "std      1.279385     1.665693  \n",
       "min      1.000000     1.000000  \n",
       "25%      4.000000     5.000000  \n",
       "50%      5.000000     5.000000  \n",
       "75%      5.000000     7.000000  \n",
       "max      9.000000     8.000000  "
      ]
     },
     "execution_count": 9,
     "metadata": {},
     "output_type": "execute_result"
    }
   ],
   "source": [
    "df.describe()"
   ]
  },
  {
   "cell_type": "code",
   "execution_count": 11,
   "id": "ea4e925c-b6ba-4a21-937f-9f0676ee3cc1",
   "metadata": {},
   "outputs": [
    {
     "data": {
      "text/html": [
       "<div>\n",
       "<style scoped>\n",
       "    .dataframe tbody tr th:only-of-type {\n",
       "        vertical-align: middle;\n",
       "    }\n",
       "\n",
       "    .dataframe tbody tr th {\n",
       "        vertical-align: top;\n",
       "    }\n",
       "\n",
       "    .dataframe thead th {\n",
       "        text-align: right;\n",
       "    }\n",
       "</style>\n",
       "<table border=\"1\" class=\"dataframe\">\n",
       "  <thead>\n",
       "    <tr style=\"text-align: right;\">\n",
       "      <th></th>\n",
       "      <th>Enginesize</th>\n",
       "      <th>Make</th>\n",
       "      <th>Model</th>\n",
       "      <th>Cylinders</th>\n",
       "      <th>CO2emissions</th>\n",
       "    </tr>\n",
       "  </thead>\n",
       "  <tbody>\n",
       "    <tr>\n",
       "      <th>0</th>\n",
       "      <td>1.5</td>\n",
       "      <td>Acura</td>\n",
       "      <td>Integra</td>\n",
       "      <td>4</td>\n",
       "      <td>167</td>\n",
       "    </tr>\n",
       "    <tr>\n",
       "      <th>1</th>\n",
       "      <td>1.5</td>\n",
       "      <td>Acura</td>\n",
       "      <td>Integra A-SPEC</td>\n",
       "      <td>4</td>\n",
       "      <td>172</td>\n",
       "    </tr>\n",
       "    <tr>\n",
       "      <th>2</th>\n",
       "      <td>1.5</td>\n",
       "      <td>Acura</td>\n",
       "      <td>Integra A-SPEC</td>\n",
       "      <td>4</td>\n",
       "      <td>181</td>\n",
       "    </tr>\n",
       "    <tr>\n",
       "      <th>3</th>\n",
       "      <td>3.5</td>\n",
       "      <td>Acura</td>\n",
       "      <td>MDX SH-AWD</td>\n",
       "      <td>6</td>\n",
       "      <td>263</td>\n",
       "    </tr>\n",
       "    <tr>\n",
       "      <th>4</th>\n",
       "      <td>3.0</td>\n",
       "      <td>Acura</td>\n",
       "      <td>MDX SH-AWD Type S</td>\n",
       "      <td>6</td>\n",
       "      <td>291</td>\n",
       "    </tr>\n",
       "  </tbody>\n",
       "</table>\n",
       "</div>"
      ],
      "text/plain": [
       "   Enginesize   Make              Model  Cylinders  CO2emissions\n",
       "0         1.5  Acura            Integra          4           167\n",
       "1         1.5  Acura     Integra A-SPEC          4           172\n",
       "2         1.5  Acura     Integra A-SPEC          4           181\n",
       "3         3.5  Acura         MDX SH-AWD          6           263\n",
       "4         3.0  Acura  MDX SH-AWD Type S          6           291"
      ]
     },
     "execution_count": 11,
     "metadata": {},
     "output_type": "execute_result"
    }
   ],
   "source": [
    "cdf=df[['Enginesize','Make','Model','Cylinders','CO2emissions']]\n",
    "cdf.head(5)"
   ]
  },
  {
   "cell_type": "code",
   "execution_count": 20,
   "id": "4a345df6-40b5-45dd-8c6b-c1189c3571e1",
   "metadata": {},
   "outputs": [
    {
     "data": {
      "image/png": "[encoded data removed]",
      "text/plain": [
       "<Figure size 640x480 with 4 Axes>"
      ]
     },
     "metadata": {},
     "output_type": "display_data"
    }
   ],
   "source": [
    "vist=cdf[['Enginesize','Cylinders','CO2emissions']]\n",
    "vist.hist()\n",
    "pl.show()"
   ]
  },
  {
   "cell_type": "code",
   "execution_count": 21,
   "id": "a61ebc78-b95a-42d0-b4c9-ce4fad984d38",
   "metadata": {},
   "outputs": [
    {
     "data": {
      "image/png": "[encoded data removed]",
      "text/plain": [
       "<Figure size 640x480 with 1 Axes>"
      ]
     },
     "metadata": {},
     "output_type": "display_data"
    }
   ],
   "source": [
    "plt.scatter(cdf.Enginesize,cdf.CO2emissions,color=\"red\")\n",
    "plt.ylabel(\"Enginesize\")\n",
    "plt.show()"
   ]
  },
  {
   "cell_type": "markdown",
   "id": "56ce23a1-b8b6-4207-ac27-e837669c7fdb",
   "metadata": {},
   "source": [
    "## 80% train"
   ]
  },
  {
   "cell_type": "code",
   "execution_count": 22,
   "id": "b84d7e97-7c7b-4b9f-9edd-cb5e0c9f8c21",
   "metadata": {},
   "outputs": [],
   "source": [
    "mask=np.random.rand(len(df))<0.8\n",
    "train=cdf[mask]\n",
    "test=cdf[~mask]"
   ]
  },
  {
   "cell_type": "markdown",
   "id": "22befe07-bb83-4644-b4b5-20cc865fe808",
   "metadata": {},
   "source": [
    "## Simple Regression Model\n"
   ]
  },
  {
   "cell_type": "code",
   "execution_count": 23,
   "id": "ca7981be-adcf-4ba2-a912-3f530318878f",
   "metadata": {},
   "outputs": [
    {
     "data": {
      "image/png": "[encoded data removed]",
      "text/plain": [
       "<Figure size 640x480 with 1 Axes>"
      ]
     },
     "metadata": {},
     "output_type": "display_data"
    }
   ],
   "source": [
    "train\n",
    "plt.scatter(train.Enginesize,train.CO2emissions,color=\"red\")\n",
    "plt.show()"
   ]
  },
  {
   "cell_type": "markdown",
   "id": "77f2a9f9-f809-4581-b13b-44131ffc6178",
   "metadata": {},
   "source": [
    "test\n",
    "plt.scatter(test.Enginesize,test.CO2emissions,color=\"red\")\n",
    "plt.show()"
   ]
  },
  {
   "cell_type": "markdown",
   "id": "0c2f50aa-ceff-4d5f-a338-f05817f7a8fa",
   "metadata": {},
   "source": [
    "## Modeling\n",
    "0+0x1"
   ]
  },
  {
   "cell_type": "code",
   "execution_count": 45,
   "id": "c36e109a-6002-416b-86be-63203e9f4c38",
   "metadata": {},
   "outputs": [
    {
     "name": "stdout",
     "output_type": "stream",
     "text": [
      "Coefficients 0x1:  [[37.98169602]]\n",
      "Intercept 0:  [137.80904383]\n",
      "37.98169601551755\n"
     ]
    }
   ],
   "source": [
    "from sklearn import linear_model\n",
    "regr = linear_model.LinearRegression()\n",
    "train_x = np.asanyarray(train[['Enginesize']])\n",
    "train_y = np.asanyarray(train[['CO2emissions']])\n",
    "regr.fit (train_x, train_y)\n",
    "print ('Coefficients 0x1: ', regr.coef_)\n",
    "print ('Intercept 0: ',regr.intercept_)\n",
    "print(regr.coef_[0][0])\n"
   ]
  },
  {
   "cell_type": "markdown",
   "id": "08bf6bbc-a842-4b2d-b122-74f8e76d231d",
   "metadata": {},
   "source": [
    "## liner plot"
   ]
  },
  {
   "cell_type": "code",
   "execution_count": 47,
   "id": "1f6912dd-2e68-45ed-baf9-424c40321495",
   "metadata": {},
   "outputs": [
    {
     "data": {
      "text/plain": [
       "Text(0, 0.5, 'CO2emissions')"
      ]
     },
     "execution_count": 47,
     "metadata": {},
     "output_type": "execute_result"
    },
    {
     "data": {
      "image/png": "[encoded data removed]",
      "text/plain": [
       "<Figure size 640x480 with 1 Axes>"
      ]
     },
     "metadata": {},
     "output_type": "display_data"
    }
   ],
   "source": [
    "plt.scatter(train.Enginesize, train.CO2emissions,  color='blue')\n",
    "plt.plot(train_x, regr.coef_[0][0]*train_x + regr.intercept_[0], '-r')\n",
    "plt.xlabel(\"Enginesize\")\n",
    "plt.ylabel(\"CO2emissions\")"
   ]
  },
  {
   "cell_type": "markdown",
   "id": "8e1f27a4-e815-4d4e-82e1-40f2cb972f48",
   "metadata": {},
   "source": [
    "## predictfrom sklearn.metrics import r2_score\n",
    "\n",
    "test_x = np.asanyarray(test[['Enginesize']])\n",
    "test_y = np.asanyarray(test[['CO2emissions']])\n",
    "test_y_ = regr.predict(test_x)\n",
    "\n",
    "\n",
    "print(\"Mean absolute error: %.2f\" % np.mean(np.absolute(test_y_ - test_y)))\n",
    "print(\"Residual sum of squares (MSE): %.2f\" % np.mean((test_y_ - test_y) ** 2))\n",
    "print(\"R2-score: %.2f\" % r2_score(test_y , test_y_) )"
   ]
  },
  {
   "cell_type": "code",
   "execution_count": 42,
   "id": "7e76422f-0599-4954-b260-74a643fdc01c",
   "metadata": {},
   "outputs": [
    {
     "name": "stdout",
     "output_type": "stream",
     "text": [
      "Mean absolute error: 26.85\n",
      "Residual sum of squares (MSE): 1516.01\n",
      "R2-score: 0.66\n"
     ]
    }
   ],
   "source": [
    "from sklearn.metrics import r2_score\n",
    "\n",
    "test_x = np.asanyarray(test[['Enginesize']])\n",
    "test_y = np.asanyarray(test[['CO2emissions']])\n",
    "test_y_ = regr.predict(test_x)\n",
    "\n",
    "\n",
    "print(\"Mean absolute error: %.2f\" % np.mean(np.absolute(test_y_ - test_y)))\n",
    "print(\"Residual sum of squares (MSE): %.2f\" % np.mean((test_y_ - test_y) ** 2))\n",
    "print(\"R2-score: %.2f\" % r2_score(test_y , test_y_) )"
   ]
  },
  {
   "cell_type": "markdown",
   "id": "9e137a26-023c-4f2a-b43d-229e708ec3db",
   "metadata": {},
   "source": [
    "## predict"
   ]
  },
  {
   "cell_type": "code",
   "execution_count": 73,
   "id": "61c81167-ba9a-4749-84f2-222cbf3e1c3c",
   "metadata": {},
   "outputs": [
    {
     "name": "stdout",
     "output_type": "stream",
     "text": [
      "[3.5]\n",
      "[[270.74497989]]\n"
     ]
    }
   ],
   "source": [
    "X = np.array([3.5])\n",
    "Y= regr.predict(x_new)\n",
    "print(X)\n",
    "print(Y)"
   ]
  }
 ],
 "metadata": {
  "kernelspec": {
   "display_name": "Python 3 (ipykernel)",
   "language": "python",
   "name": "python3"
  },
  "language_info": {
   "codemirror_mode": {
    "name": "ipython",
    "version": 3
   },
   "file_extension": ".py",
   "mimetype": "text/x-python",
   "name": "python",
   "nbconvert_exporter": "python",
   "pygments_lexer": "ipython3",
   "version": "3.11.2"
  }
 },
 "nbformat": 4,
 "nbformat_minor": 5
}
